{
 "cells": [
  {
   "cell_type": "code",
   "execution_count": 3,
   "id": "e810e58e-a4d2-4613-8a52-d275d9d7499b",
   "metadata": {},
   "outputs": [],
   "source": [
    "paragraph = \"this is the NLP session that is going on and finally we are happy. Is everyone happy. Google is company where we search and learn tech\""
   ]
  },
  {
   "cell_type": "code",
   "execution_count": 4,
   "id": "7099eb10-2f81-4449-88ef-d9240af72015",
   "metadata": {},
   "outputs": [
    {
     "name": "stderr",
     "output_type": "stream",
     "text": [
      "[nltk_data] Downloading package punkt to\n",
      "[nltk_data]     C:\\Users\\hp\\AppData\\Roaming\\nltk_data...\n",
      "[nltk_data]   Package punkt is already up-to-date!\n"
     ]
    },
    {
     "data": {
      "text/plain": [
       "True"
      ]
     },
     "execution_count": 4,
     "metadata": {},
     "output_type": "execute_result"
    }
   ],
   "source": [
    "import nltk\n",
    "nltk.download('punkt')"
   ]
  },
  {
   "cell_type": "code",
   "execution_count": 5,
   "id": "92e78ceb-edfc-430f-91b8-0fe926ea5abd",
   "metadata": {},
   "outputs": [
    {
     "name": "stderr",
     "output_type": "stream",
     "text": [
      "[nltk_data] Downloading package wordnet to\n",
      "[nltk_data]     C:\\Users\\hp\\AppData\\Roaming\\nltk_data...\n",
      "[nltk_data]   Package wordnet is already up-to-date!\n"
     ]
    },
    {
     "data": {
      "text/plain": [
       "True"
      ]
     },
     "execution_count": 5,
     "metadata": {},
     "output_type": "execute_result"
    }
   ],
   "source": [
    "nltk.download('wordnet')"
   ]
  },
  {
   "cell_type": "code",
   "execution_count": 6,
   "id": "b78a7ed9-b9d4-47b3-a753-54f46f9ed7a5",
   "metadata": {},
   "outputs": [],
   "source": [
    " sentences = nltk.sent_tokenize(paragraph)"
   ]
  },
  {
   "cell_type": "code",
   "execution_count": 7,
   "id": "c2782fee-8a59-4cba-81a6-4ac0fdc8dc9e",
   "metadata": {},
   "outputs": [
    {
     "data": {
      "text/plain": [
       "['this',\n",
       " 'is',\n",
       " 'the',\n",
       " 'NLP',\n",
       " 'session',\n",
       " 'that',\n",
       " 'is',\n",
       " 'going',\n",
       " 'on',\n",
       " 'and',\n",
       " 'finally',\n",
       " 'we',\n",
       " 'are',\n",
       " 'happy',\n",
       " '.',\n",
       " 'Is',\n",
       " 'everyone',\n",
       " 'happy',\n",
       " '.',\n",
       " 'Google',\n",
       " 'is',\n",
       " 'company',\n",
       " 'where',\n",
       " 'we',\n",
       " 'search',\n",
       " 'and',\n",
       " 'learn',\n",
       " 'tech']"
      ]
     },
     "execution_count": 7,
     "metadata": {},
     "output_type": "execute_result"
    }
   ],
   "source": [
    "nltk.word_tokenize(paragraph)"
   ]
  },
  {
   "cell_type": "code",
   "execution_count": 8,
   "id": "82a8dedd-b81e-4ab5-a668-d937660be5b1",
   "metadata": {},
   "outputs": [
    {
     "data": {
      "text/plain": [
       "'final'"
      ]
     },
     "execution_count": 8,
     "metadata": {},
     "output_type": "execute_result"
    }
   ],
   "source": [
    "from nltk.stem import PorterStemmer\n",
    "\n",
    "stemmer = PorterStemmer()\n",
    "\n",
    "stemmer.stem(\"finally\")"
   ]
  },
  {
   "cell_type": "code",
   "execution_count": 9,
   "id": "6be318c8-edb2-4baf-9785-7d3ce84bbe5b",
   "metadata": {},
   "outputs": [
    {
     "data": {
      "text/plain": [
       "'histori'"
      ]
     },
     "execution_count": 9,
     "metadata": {},
     "output_type": "execute_result"
    }
   ],
   "source": [
    "stemmer.stem(\"history\")"
   ]
  },
  {
   "cell_type": "code",
   "execution_count": 10,
   "id": "fac3af7c-9461-45ad-8361-185517d97125",
   "metadata": {},
   "outputs": [
    {
     "data": {
      "text/plain": [
       "'organ'"
      ]
     },
     "execution_count": 10,
     "metadata": {},
     "output_type": "execute_result"
    }
   ],
   "source": [
    "stemmer.stem(\"organization\")"
   ]
  },
  {
   "cell_type": "markdown",
   "id": "1cebf03e-30ad-43bb-ba03-554e42e9b03f",
   "metadata": {},
   "source": [
    "stemming is the process of converting a word to their root form"
   ]
  },
  {
   "cell_type": "code",
   "execution_count": 11,
   "id": "13111114-4457-42a7-a632-156a0ffd184b",
   "metadata": {},
   "outputs": [],
   "source": [
    "from nltk.stem import WordNetLemmatizer\n",
    "\n",
    "lemmatizer = WordNetLemmatizer()"
   ]
  },
  {
   "cell_type": "code",
   "execution_count": 12,
   "id": "fa451f3d-fb91-4490-8973-24b27c7e8a28",
   "metadata": {},
   "outputs": [
    {
     "data": {
      "text/plain": [
       "'historical'"
      ]
     },
     "execution_count": 12,
     "metadata": {},
     "output_type": "execute_result"
    }
   ],
   "source": [
    "lemmatizer.lemmatize(\"historical\")"
   ]
  },
  {
   "cell_type": "code",
   "execution_count": 13,
   "id": "3debb356-f499-4825-b39d-7e25cfc13144",
   "metadata": {},
   "outputs": [
    {
     "data": {
      "text/plain": [
       "'eating'"
      ]
     },
     "execution_count": 13,
     "metadata": {},
     "output_type": "execute_result"
    }
   ],
   "source": [
    "lemmatizer.lemmatize(\"eating\")"
   ]
  },
  {
   "cell_type": "code",
   "execution_count": 14,
   "id": "69d5663a-d408-44be-a472-06d067f44478",
   "metadata": {},
   "outputs": [
    {
     "name": "stdout",
     "output_type": "stream",
     "text": [
      "['thi', 'is', 'the', 'nlp', 'session', 'that', 'is', 'go', 'on', 'and', 'final', 'we', 'are', 'happi', '.']\n",
      "['is', 'everyon', 'happi', '.']\n",
      "['googl', 'is', 'compani', 'where', 'we', 'search', 'and', 'learn', 'tech']\n"
     ]
    }
   ],
   "source": [
    "corpus = []\n",
    "for i in range(len(sentences)):\n",
    "    words = nltk.word_tokenize(sentences[i])\n",
    "    words = [stemmer.stem(word) for word in words]\n",
    "    print(words)"
   ]
  },
  {
   "cell_type": "code",
   "execution_count": 15,
   "id": "db561d2f-cbf5-4f1a-9ea0-dfc7c7cae103",
   "metadata": {},
   "outputs": [
    {
     "name": "stdout",
     "output_type": "stream",
     "text": [
      "['this', 'is', 'the', 'NLP', 'session', 'that', 'is', 'going', 'on', 'and', 'finally', 'we', 'are', 'happy', '.']\n",
      "['Is', 'everyone', 'happy', '.']\n",
      "['Google', 'is', 'company', 'where', 'we', 'search', 'and', 'learn', 'tech']\n"
     ]
    }
   ],
   "source": [
    "corpus = []\n",
    "for i in range(len(sentences)):\n",
    "    words = nltk.word_tokenize(sentences[i])\n",
    "    words = [lemmatizer.lemmatize(word) for word in words]\n",
    "    print(words)"
   ]
  },
  {
   "cell_type": "code",
   "execution_count": 16,
   "id": "fcc8682c-6045-4742-8f6a-2d158d417116",
   "metadata": {},
   "outputs": [],
   "source": [
    "paragraph = \"\"\"\n",
    "Ratan Naval Tata (born 28 December 1937) is an Indian industrialist, philanthropist and former chairman of Tata Sons. He was a chairman of the Tata Group from 1990 to 2012, and interim chairman from October 2016 through February 2017. He continues to head its charitable trusts.[2][3] In 2008, he received the Padma Vibhushan, the second highest civilian honour in India, after receiving the Padma Bhushan, the third highest civilian honour in 2000.[4]\n",
    "\n",
    "He is the son of Naval Tata, who was adopted by Ratanji Tata, son of Jamsetji Tata, the founder of the Tata Group. He graduated from the Cornell University College of Architecture with a bachelor's degree in architecture.[5] He joined Tata in 1961, where he worked on the shop floor of Tata Steel. He later succeeded J. R. D. Tata as chairman of Tata Sons upon the latter's retirement in 1991. Under his tenure the Tata Group acquired Tetley, Jaguar Land Rover, and Corus, in an attempt to turn Tata from a largely India-centric group into a global business. Tata is also one of the largest philanthropists in the world, having donated around 60–65% of his income to charity.\n",
    "\n",
    "Ratan Tata is also a prolific investor and has made numerous investments in several startups. Tata has invested in over 30 start-ups to date, most in a personal capacity and some via his investment company\n",
    "\"\"\""
   ]
  },
  {
   "cell_type": "code",
   "execution_count": 17,
   "id": "8fc6f611-c221-4930-aaad-bfba899e05c0",
   "metadata": {},
   "outputs": [
    {
     "data": {
      "text/plain": [
       "\"\\nRatan Naval Tata (born 28 December 1937) is an Indian industrialist, philanthropist and former chairman of Tata Sons. He was a chairman of the Tata Group from 1990 to 2012, and interim chairman from October 2016 through February 2017. He continues to head its charitable trusts.[2][3] In 2008, he received the Padma Vibhushan, the second highest civilian honour in India, after receiving the Padma Bhushan, the third highest civilian honour in 2000.[4]\\n\\nHe is the son of Naval Tata, who was adopted by Ratanji Tata, son of Jamsetji Tata, the founder of the Tata Group. He graduated from the Cornell University College of Architecture with a bachelor's degree in architecture.[5] He joined Tata in 1961, where he worked on the shop floor of Tata Steel. He later succeeded J. R. D. Tata as chairman of Tata Sons upon the latter's retirement in 1991. Under his tenure the Tata Group acquired Tetley, Jaguar Land Rover, and Corus, in an attempt to turn Tata from a largely India-centric group into a global business. Tata is also one of the largest philanthropists in the world, having donated around 60–65% of his income to charity.\\n\\nRatan Tata is also a prolific investor and has made numerous investments in several startups. Tata has invested in over 30 start-ups to date, most in a personal capacity and some via his investment company\\n\""
      ]
     },
     "execution_count": 17,
     "metadata": {},
     "output_type": "execute_result"
    }
   ],
   "source": [
    "paragraph"
   ]
  },
  {
   "cell_type": "code",
   "execution_count": 18,
   "id": "1fc71acf-6a35-4f93-bfa7-093384a99cc3",
   "metadata": {},
   "outputs": [
    {
     "data": {
      "text/plain": [
       "['\\nRatan Naval Tata (born 28 December 1937) is an Indian industrialist, philanthropist and former chairman of Tata Sons.',\n",
       " 'He was a chairman of the Tata Group from 1990 to 2012, and interim chairman from October 2016 through February 2017.',\n",
       " 'He continues to head its charitable trusts.',\n",
       " '[2][3] In 2008, he received the Padma Vibhushan, the second highest civilian honour in India, after receiving the Padma Bhushan, the third highest civilian honour in 2000.',\n",
       " '[4]\\n\\nHe is the son of Naval Tata, who was adopted by Ratanji Tata, son of Jamsetji Tata, the founder of the Tata Group.',\n",
       " \"He graduated from the Cornell University College of Architecture with a bachelor's degree in architecture.\",\n",
       " '[5] He joined Tata in 1961, where he worked on the shop floor of Tata Steel.',\n",
       " \"He later succeeded J. R. D. Tata as chairman of Tata Sons upon the latter's retirement in 1991.\",\n",
       " 'Under his tenure the Tata Group acquired Tetley, Jaguar Land Rover, and Corus, in an attempt to turn Tata from a largely India-centric group into a global business.',\n",
       " 'Tata is also one of the largest philanthropists in the world, having donated around 60–65% of his income to charity.',\n",
       " 'Ratan Tata is also a prolific investor and has made numerous investments in several startups.',\n",
       " 'Tata has invested in over 30 start-ups to date, most in a personal capacity and some via his investment company']"
      ]
     },
     "execution_count": 18,
     "metadata": {},
     "output_type": "execute_result"
    }
   ],
   "source": [
    " sentences = nltk.sent_tokenize(paragraph)\n",
    "sentences"
   ]
  },
  {
   "cell_type": "code",
   "execution_count": 19,
   "id": "ee68560a-93c9-4ac6-a020-c13d6e2b062a",
   "metadata": {},
   "outputs": [
    {
     "name": "stdout",
     "output_type": "stream",
     "text": [
      "['Ratan', 'Naval', 'Tata', '(', 'born', '28', 'December', '1937', ')', 'is', 'an', 'Indian', 'industrialist', ',', 'philanthropist', 'and', 'former', 'chairman', 'of', 'Tata', 'Sons', '.']\n",
      "['He', 'wa', 'a', 'chairman', 'of', 'the', 'Tata', 'Group', 'from', '1990', 'to', '2012', ',', 'and', 'interim', 'chairman', 'from', 'October', '2016', 'through', 'February', '2017', '.']\n",
      "['He', 'continues', 'to', 'head', 'it', 'charitable', 'trust', '.']\n",
      "['[', '2', ']', '[', '3', ']', 'In', '2008', ',', 'he', 'received', 'the', 'Padma', 'Vibhushan', ',', 'the', 'second', 'highest', 'civilian', 'honour', 'in', 'India', ',', 'after', 'receiving', 'the', 'Padma', 'Bhushan', ',', 'the', 'third', 'highest', 'civilian', 'honour', 'in', '2000', '.']\n",
      "['[', '4', ']', 'He', 'is', 'the', 'son', 'of', 'Naval', 'Tata', ',', 'who', 'wa', 'adopted', 'by', 'Ratanji', 'Tata', ',', 'son', 'of', 'Jamsetji', 'Tata', ',', 'the', 'founder', 'of', 'the', 'Tata', 'Group', '.']\n",
      "['He', 'graduated', 'from', 'the', 'Cornell', 'University', 'College', 'of', 'Architecture', 'with', 'a', 'bachelor', \"'s\", 'degree', 'in', 'architecture', '.']\n",
      "['[', '5', ']', 'He', 'joined', 'Tata', 'in', '1961', ',', 'where', 'he', 'worked', 'on', 'the', 'shop', 'floor', 'of', 'Tata', 'Steel', '.']\n",
      "['He', 'later', 'succeeded', 'J.', 'R.', 'D.', 'Tata', 'a', 'chairman', 'of', 'Tata', 'Sons', 'upon', 'the', 'latter', \"'s\", 'retirement', 'in', '1991', '.']\n",
      "['Under', 'his', 'tenure', 'the', 'Tata', 'Group', 'acquired', 'Tetley', ',', 'Jaguar', 'Land', 'Rover', ',', 'and', 'Corus', ',', 'in', 'an', 'attempt', 'to', 'turn', 'Tata', 'from', 'a', 'largely', 'India-centric', 'group', 'into', 'a', 'global', 'business', '.']\n",
      "['Tata', 'is', 'also', 'one', 'of', 'the', 'largest', 'philanthropist', 'in', 'the', 'world', ',', 'having', 'donated', 'around', '60–65', '%', 'of', 'his', 'income', 'to', 'charity', '.']\n",
      "['Ratan', 'Tata', 'is', 'also', 'a', 'prolific', 'investor', 'and', 'ha', 'made', 'numerous', 'investment', 'in', 'several', 'startup', '.']\n",
      "['Tata', 'ha', 'invested', 'in', 'over', '30', 'start-ups', 'to', 'date', ',', 'most', 'in', 'a', 'personal', 'capacity', 'and', 'some', 'via', 'his', 'investment', 'company']\n"
     ]
    }
   ],
   "source": [
    "corpus = []\n",
    "for i in range(len(sentences)):\n",
    "    words = nltk.word_tokenize(sentences[i])\n",
    "    words = [lemmatizer.lemmatize(word) for word in words]\n",
    "    print(words)"
   ]
  },
  {
   "cell_type": "code",
   "execution_count": 23,
   "id": "d5d82712-4898-4871-93de-fda6cb0a1612",
   "metadata": {
    "scrolled": true
   },
   "outputs": [
    {
     "name": "stdout",
     "output_type": "stream",
     "text": [
      "['ratan', 'naval', 'tata', '(', 'born', '28', 'decemb', '1937', ')', 'indian', 'industrialist', ',', 'philanthropist', 'former', 'chairman', 'tata', 'son', '.']\n",
      "['he', 'chairman', 'tata', 'group', '1990', '2012', ',', 'interim', 'chairman', 'octob', '2016', 'februari', '2017', '.']\n",
      "['he', 'continu', 'head', 'charit', 'trust', '.']\n",
      "['[', '2', ']', '[', '3', ']', 'in', '2008', ',', 'receiv', 'padma', 'vibhushan', ',', 'second', 'highest', 'civilian', 'honour', 'india', ',', 'receiv', 'padma', 'bhushan', ',', 'third', 'highest', 'civilian', 'honour', '2000', '.']\n",
      "['[', '4', ']', 'he', 'son', 'naval', 'tata', ',', 'adopt', 'ratanji', 'tata', ',', 'son', 'jamsetji', 'tata', ',', 'founder', 'tata', 'group', '.']\n",
      "['he', 'graduat', 'cornel', 'univers', 'colleg', 'architectur', 'bachelor', \"'s\", 'degre', 'architectur', '.']\n",
      "['[', '5', ']', 'he', 'join', 'tata', '1961', ',', 'work', 'shop', 'floor', 'tata', 'steel', '.']\n",
      "['he', 'later', 'succeed', 'j.', 'r.', 'd.', 'tata', 'chairman', 'tata', 'son', 'upon', 'latter', \"'s\", 'retir', '1991', '.']\n",
      "['under', 'tenur', 'tata', 'group', 'acquir', 'tetley', ',', 'jaguar', 'land', 'rover', ',', 'coru', ',', 'attempt', 'turn', 'tata', 'larg', 'india-centr', 'group', 'global', 'busi', '.']\n",
      "['tata', 'also', 'one', 'largest', 'philanthropist', 'world', ',', 'donat', 'around', '60–65', '%', 'incom', 'chariti', '.']\n",
      "['ratan', 'tata', 'also', 'prolif', 'investor', 'made', 'numer', 'invest', 'sever', 'startup', '.']\n",
      "['tata', 'invest', '30', 'start-up', 'date', ',', 'person', 'capac', 'via', 'invest', 'compani']\n"
     ]
    }
   ],
   "source": [
    "corpus = []\n",
    "for i in range(len(sentences)):\n",
    "    words = nltk.word_tokenize(sentences[i])\n",
    "    words = [stemmer.stem(word) for word in words if not word in stop_words]\n",
    "    print(words)"
   ]
  },
  {
   "cell_type": "code",
   "execution_count": 21,
   "id": "9c32fce8-8fde-4391-919b-48d760eb5786",
   "metadata": {},
   "outputs": [
    {
     "name": "stderr",
     "output_type": "stream",
     "text": [
      "[nltk_data] Downloading package stopwords to\n",
      "[nltk_data]     C:\\Users\\hp\\AppData\\Roaming\\nltk_data...\n",
      "[nltk_data]   Package stopwords is already up-to-date!\n"
     ]
    },
    {
     "data": {
      "text/plain": [
       "True"
      ]
     },
     "execution_count": 21,
     "metadata": {},
     "output_type": "execute_result"
    }
   ],
   "source": [
    "nltk.download('stopwords')"
   ]
  },
  {
   "cell_type": "code",
   "execution_count": 24,
   "id": "75dbbd21-9714-443f-bf14-a982c389292b",
   "metadata": {},
   "outputs": [],
   "source": [
    "from nltk.corpus import stopwords\n",
    "stop_words = stopwords.words('english')"
   ]
  },
  {
   "cell_type": "code",
   "execution_count": 32,
   "id": "70441821-e953-4b3f-9594-a8b4189fa735",
   "metadata": {},
   "outputs": [
    {
     "name": "stdout",
     "output_type": "stream",
     "text": [
      "['ratan', 'naval', 'tata', '(', 'born', '28', 'decemb', '1937', ')', 'indian', 'industrialist', ',', 'philanthropist', 'former', 'chairman', 'tata', 'son', '.']\n",
      "['chairman', 'tata', 'group', '1990', '2012', ',', 'interim', 'chairman', 'octob', '2016', 'februari', '2017', '.']\n",
      "['continu', 'head', 'charit', 'trust', '.']\n",
      "['[', '2', ']', '[', '3', ']', '2008', ',', 'receiv', 'padma', 'vibhushan', ',', 'second', 'highest', 'civilian', 'honour', 'india', ',', 'receiv', 'padma', 'bhushan', ',', 'third', 'highest', 'civilian', 'honour', '2000', '.']\n",
      "['[', '4', ']', 'son', 'naval', 'tata', ',', 'adopt', 'ratanji', 'tata', ',', 'son', 'jamsetji', 'tata', ',', 'founder', 'tata', 'group', '.']\n",
      "['graduat', 'cornel', 'univers', 'colleg', 'architectur', 'bachelor', \"'s\", 'degre', 'architectur', '.']\n",
      "['[', '5', ']', 'join', 'tata', '1961', ',', 'work', 'shop', 'floor', 'tata', 'steel', '.']\n",
      "['later', 'succeed', 'j.', 'r.', 'd.', 'tata', 'chairman', 'tata', 'son', 'upon', 'latter', \"'s\", 'retir', '1991', '.']\n",
      "['tenur', 'tata', 'group', 'acquir', 'tetley', ',', 'jaguar', 'land', 'rover', ',', 'coru', ',', 'attempt', 'turn', 'tata', 'larg', 'india-centr', 'group', 'global', 'busi', '.']\n",
      "['tata', 'also', 'one', 'largest', 'philanthropist', 'world', ',', 'donat', 'around', '60–65', '%', 'incom', 'chariti', '.']\n",
      "['ratan', 'tata', 'also', 'prolif', 'investor', 'made', 'numer', 'invest', 'sever', 'startup', '.']\n",
      "['tata', 'invest', '30', 'start-up', 'date', ',', 'person', 'capac', 'via', 'invest', 'compani']\n"
     ]
    }
   ],
   "source": [
    "#removing stopwords from ccorpus\n",
    "corpus = []\n",
    "for i in range(len(sentences)):\n",
    "    words = nltk.word_tokenize(sentences[i].lower())\n",
    "    words = [stemmer.stem(word) for word in words if not word in stop_words]\n",
    "    print(words)\n",
    "    corpus.append(' '.join(words))"
   ]
  },
  {
   "cell_type": "code",
   "execution_count": 26,
   "id": "30127833-2ff5-425f-80f9-3adb9d4d1fbc",
   "metadata": {},
   "outputs": [
    {
     "data": {
      "text/plain": [
       "['ratan naval tata ( born 28 decemb 1937 ) indian industrialist , philanthropist former chairman tata son .',\n",
       " 'chairman tata group 1990 2012 , interim chairman octob 2016 februari 2017 .',\n",
       " 'continu head charit trust .',\n",
       " '[ 2 ] [ 3 ] 2008 , receiv padma vibhushan , second highest civilian honour india , receiv padma bhushan , third highest civilian honour 2000 .',\n",
       " '[ 4 ] son naval tata , adopt ratanji tata , son jamsetji tata , founder tata group .',\n",
       " \"graduat cornel univers colleg architectur bachelor 's degre architectur .\",\n",
       " '[ 5 ] join tata 1961 , work shop floor tata steel .',\n",
       " \"later succeed j. r. d. tata chairman tata son upon latter 's retir 1991 .\",\n",
       " 'tenur tata group acquir tetley , jaguar land rover , coru , attempt turn tata larg india-centr group global busi .',\n",
       " 'tata also one largest philanthropist world , donat around 60–65 % incom chariti .',\n",
       " 'ratan tata also prolif investor made numer invest sever startup .',\n",
       " 'tata invest 30 start-up date , person capac via invest compani']"
      ]
     },
     "execution_count": 26,
     "metadata": {},
     "output_type": "execute_result"
    }
   ],
   "source": [
    "corpus"
   ]
  },
  {
   "cell_type": "code",
   "execution_count": 27,
   "id": "f13ba319-3430-4503-89dd-eefc570e4692",
   "metadata": {},
   "outputs": [],
   "source": [
    "from sklearn.feature_extraction.text import CountVectorizer"
   ]
  },
  {
   "cell_type": "code",
   "execution_count": 30,
   "id": "8f25fc35-8508-4952-98c3-fa733ea974d0",
   "metadata": {},
   "outputs": [
    {
     "data": {
      "text/plain": [
       "['\\nRatan Naval Tata (born 28 December 1937) is an Indian industrialist, philanthropist and former chairman of Tata Sons.',\n",
       " 'He was a chairman of the Tata Group from 1990 to 2012, and interim chairman from October 2016 through February 2017.',\n",
       " 'He continues to head its charitable trusts.',\n",
       " '[2][3] In 2008, he received the Padma Vibhushan, the second highest civilian honour in India, after receiving the Padma Bhushan, the third highest civilian honour in 2000.',\n",
       " '[4]\\n\\nHe is the son of Naval Tata, who was adopted by Ratanji Tata, son of Jamsetji Tata, the founder of the Tata Group.',\n",
       " \"He graduated from the Cornell University College of Architecture with a bachelor's degree in architecture.\",\n",
       " '[5] He joined Tata in 1961, where he worked on the shop floor of Tata Steel.',\n",
       " \"He later succeeded J. R. D. Tata as chairman of Tata Sons upon the latter's retirement in 1991.\",\n",
       " 'Under his tenure the Tata Group acquired Tetley, Jaguar Land Rover, and Corus, in an attempt to turn Tata from a largely India-centric group into a global business.',\n",
       " 'Tata is also one of the largest philanthropists in the world, having donated around 60–65% of his income to charity.',\n",
       " 'Ratan Tata is also a prolific investor and has made numerous investments in several startups.',\n",
       " 'Tata has invested in over 30 start-ups to date, most in a personal capacity and some via his investment company']"
      ]
     },
     "execution_count": 30,
     "metadata": {},
     "output_type": "execute_result"
    }
   ],
   "source": [
    "sentences"
   ]
  },
  {
   "cell_type": "code",
   "execution_count": 29,
   "id": "aeec1948-a915-4ed2-8f4e-d636f820ff51",
   "metadata": {},
   "outputs": [
    {
     "name": "stdout",
     "output_type": "stream",
     "text": [
      "['tata', 'invest', '30', 'start-up', 'date', ',', 'person', 'capac', 'via', 'invest', 'compani']\n",
      "['tata', 'invest', '30', 'start-up', 'date', ',', 'person', 'capac', 'via', 'invest', 'compani']\n",
      "['tata', 'invest', '30', 'start-up', 'date', ',', 'person', 'capac', 'via', 'invest', 'compani']\n",
      "['tata', 'invest', '30', 'start-up', 'date', ',', 'person', 'capac', 'via', 'invest', 'compani']\n",
      "['tata', 'invest', '30', 'start-up', 'date', ',', 'person', 'capac', 'via', 'invest', 'compani']\n",
      "['tata', 'invest', '30', 'start-up', 'date', ',', 'person', 'capac', 'via', 'invest', 'compani']\n",
      "['tata', 'invest', '30', 'start-up', 'date', ',', 'person', 'capac', 'via', 'invest', 'compani']\n",
      "['tata', 'invest', '30', 'start-up', 'date', ',', 'person', 'capac', 'via', 'invest', 'compani']\n",
      "['tata', 'invest', '30', 'start-up', 'date', ',', 'person', 'capac', 'via', 'invest', 'compani']\n",
      "['tata', 'invest', '30', 'start-up', 'date', ',', 'person', 'capac', 'via', 'invest', 'compani']\n",
      "['tata', 'invest', '30', 'start-up', 'date', ',', 'person', 'capac', 'via', 'invest', 'compani']\n",
      "['tata', 'invest', '30', 'start-up', 'date', ',', 'person', 'capac', 'via', 'invest', 'compani']\n"
     ]
    }
   ],
   "source": [
    "# import re\n",
    "# corpus = []\n",
    "# for i in range(len(sentences)):\n",
    "#     text =re.sub('[^a-zA-Z0-9]',' ',sentences[i])\n",
    "#     text = text.lower()\n",
    "#     text = text.split()\n",
    "#     words = [stemmer.stem(word) for word in words if not word in stop_words]\n",
    "#     print(words)\n",
    "#     corpus.append(' '.join(words))"
   ]
  },
  {
   "cell_type": "code",
   "execution_count": 33,
   "id": "36a29c62-c8b4-4308-b80b-1cd53272a1c3",
   "metadata": {},
   "outputs": [
    {
     "data": {
      "text/plain": [
       "['ratan naval tata ( born 28 decemb 1937 ) indian industrialist , philanthropist former chairman tata son .',\n",
       " 'chairman tata group 1990 2012 , interim chairman octob 2016 februari 2017 .',\n",
       " 'continu head charit trust .',\n",
       " '[ 2 ] [ 3 ] 2008 , receiv padma vibhushan , second highest civilian honour india , receiv padma bhushan , third highest civilian honour 2000 .',\n",
       " '[ 4 ] son naval tata , adopt ratanji tata , son jamsetji tata , founder tata group .',\n",
       " \"graduat cornel univers colleg architectur bachelor 's degre architectur .\",\n",
       " '[ 5 ] join tata 1961 , work shop floor tata steel .',\n",
       " \"later succeed j. r. d. tata chairman tata son upon latter 's retir 1991 .\",\n",
       " 'tenur tata group acquir tetley , jaguar land rover , coru , attempt turn tata larg india-centr group global busi .',\n",
       " 'tata also one largest philanthropist world , donat around 60–65 % incom chariti .',\n",
       " 'ratan tata also prolif investor made numer invest sever startup .',\n",
       " 'tata invest 30 start-up date , person capac via invest compani']"
      ]
     },
     "execution_count": 33,
     "metadata": {},
     "output_type": "execute_result"
    }
   ],
   "source": [
    "corpus"
   ]
  },
  {
   "cell_type": "code",
   "execution_count": 42,
   "id": "7a8ba784-5e23-4510-a4de-c6c859e28420",
   "metadata": {},
   "outputs": [
    {
     "data": {
      "text/plain": [
       "array([[1, 1, 0, ..., 0, 0, 0],\n",
       "       [0, 0, 0, ..., 0, 0, 0],\n",
       "       [0, 0, 0, ..., 0, 0, 0],\n",
       "       ...,\n",
       "       [0, 0, 0, ..., 0, 1, 1],\n",
       "       [0, 0, 0, ..., 0, 0, 0],\n",
       "       [0, 0, 0, ..., 0, 0, 0]], dtype=int64)"
      ]
     },
     "execution_count": 42,
     "metadata": {},
     "output_type": "execute_result"
    }
   ],
   "source": [
    "cv = CountVectorizer(binary =True,ngram_range=(1,2))\n",
    "#unigram and bigram both wll be there\n",
    "cv.fit_transform(corpus).toarray()"
   ]
  },
  {
   "cell_type": "code",
   "execution_count": 43,
   "id": "0a712883-53a8-40e5-a874-9402882b77fc",
   "metadata": {},
   "outputs": [
    {
     "data": {
      "text/plain": [
       "{'ratan': 148,\n",
       " 'naval': 130,\n",
       " 'tata': 175,\n",
       " 'born': 40,\n",
       " '28': 15,\n",
       " 'decemb': 66,\n",
       " '1937': 0,\n",
       " 'indian': 100,\n",
       " 'industrialist': 102,\n",
       " 'philanthropist': 143,\n",
       " 'former': 76,\n",
       " 'chairman': 47,\n",
       " 'son': 165,\n",
       " 'ratan naval': 149,\n",
       " 'naval tata': 131,\n",
       " 'tata born': 179,\n",
       " 'born 28': 41,\n",
       " '28 decemb': 16,\n",
       " 'decemb 1937': 67,\n",
       " '1937 indian': 1,\n",
       " 'indian industrialist': 101,\n",
       " 'industrialist philanthropist': 103,\n",
       " 'philanthropist former': 144,\n",
       " 'former chairman': 77,\n",
       " 'chairman tata': 49,\n",
       " 'tata son': 185,\n",
       " 'group': 84,\n",
       " '1990': 4,\n",
       " '2012': 10,\n",
       " 'interim': 104,\n",
       " 'octob': 134,\n",
       " '2016': 12,\n",
       " 'februari': 72,\n",
       " '2017': 14,\n",
       " 'tata group': 182,\n",
       " 'group 1990': 85,\n",
       " '1990 2012': 5,\n",
       " '2012 interim': 11,\n",
       " 'interim chairman': 105,\n",
       " 'chairman octob': 48,\n",
       " 'octob 2016': 135,\n",
       " '2016 februari': 13,\n",
       " 'februari 2017': 73,\n",
       " 'continu': 58,\n",
       " 'head': 88,\n",
       " 'charit': 50,\n",
       " 'trust': 193,\n",
       " 'continu head': 59,\n",
       " 'head charit': 89,\n",
       " 'charit trust': 51,\n",
       " '2008': 8,\n",
       " 'receiv': 153,\n",
       " 'padma': 138,\n",
       " 'vibhushan': 204,\n",
       " 'second': 159,\n",
       " 'highest': 90,\n",
       " 'civilian': 53,\n",
       " 'honour': 92,\n",
       " 'india': 97,\n",
       " 'bhushan': 38,\n",
       " 'third': 191,\n",
       " '2000': 7,\n",
       " '2008 receiv': 9,\n",
       " 'receiv padma': 154,\n",
       " 'padma vibhushan': 140,\n",
       " 'vibhushan second': 205,\n",
       " 'second highest': 160,\n",
       " 'highest civilian': 91,\n",
       " 'civilian honour': 54,\n",
       " 'honour india': 94,\n",
       " 'india receiv': 99,\n",
       " 'padma bhushan': 139,\n",
       " 'bhushan third': 39,\n",
       " 'third highest': 192,\n",
       " 'honour 2000': 93,\n",
       " 'adopt': 25,\n",
       " 'ratanji': 151,\n",
       " 'jamsetji': 114,\n",
       " 'founder': 78,\n",
       " 'son naval': 167,\n",
       " 'tata adopt': 177,\n",
       " 'adopt ratanji': 26,\n",
       " 'ratanji tata': 152,\n",
       " 'son jamsetji': 166,\n",
       " 'jamsetji tata': 115,\n",
       " 'tata founder': 181,\n",
       " 'founder tata': 79,\n",
       " 'graduat': 82,\n",
       " 'cornel': 60,\n",
       " 'univers': 196,\n",
       " 'colleg': 55,\n",
       " 'architectur': 30,\n",
       " 'bachelor': 36,\n",
       " 'degre': 68,\n",
       " 'graduat cornel': 83,\n",
       " 'cornel univers': 61,\n",
       " 'univers colleg': 197,\n",
       " 'colleg architectur': 56,\n",
       " 'architectur bachelor': 31,\n",
       " 'bachelor degre': 37,\n",
       " 'degre architectur': 69,\n",
       " 'join': 116,\n",
       " '1961': 2,\n",
       " 'work': 206,\n",
       " 'shop': 163,\n",
       " 'floor': 74,\n",
       " 'steel': 172,\n",
       " 'join tata': 117,\n",
       " 'tata 1961': 176,\n",
       " '1961 work': 3,\n",
       " 'work shop': 207,\n",
       " 'shop floor': 164,\n",
       " 'floor tata': 75,\n",
       " 'tata steel': 186,\n",
       " 'later': 124,\n",
       " 'succeed': 173,\n",
       " 'upon': 200,\n",
       " 'latter': 126,\n",
       " 'retir': 155,\n",
       " '1991': 6,\n",
       " 'later succeed': 125,\n",
       " 'succeed tata': 174,\n",
       " 'tata chairman': 180,\n",
       " 'son upon': 168,\n",
       " 'upon latter': 201,\n",
       " 'latter retir': 127,\n",
       " 'retir 1991': 156,\n",
       " 'tenur': 187,\n",
       " 'acquir': 23,\n",
       " 'tetley': 189,\n",
       " 'jaguar': 112,\n",
       " 'land': 118,\n",
       " 'rover': 157,\n",
       " 'coru': 62,\n",
       " 'attempt': 34,\n",
       " 'turn': 194,\n",
       " 'larg': 120,\n",
       " 'centr': 45,\n",
       " 'global': 80,\n",
       " 'busi': 42,\n",
       " 'tenur tata': 188,\n",
       " 'group acquir': 86,\n",
       " 'acquir tetley': 24,\n",
       " 'tetley jaguar': 190,\n",
       " 'jaguar land': 113,\n",
       " 'land rover': 119,\n",
       " 'rover coru': 158,\n",
       " 'coru attempt': 63,\n",
       " 'attempt turn': 35,\n",
       " 'turn tata': 195,\n",
       " 'tata larg': 184,\n",
       " 'larg india': 121,\n",
       " 'india centr': 98,\n",
       " 'centr group': 46,\n",
       " 'group global': 87,\n",
       " 'global busi': 81,\n",
       " 'also': 27,\n",
       " 'one': 136,\n",
       " 'largest': 122,\n",
       " 'world': 208,\n",
       " 'donat': 70,\n",
       " 'around': 32,\n",
       " '60': 19,\n",
       " '65': 21,\n",
       " 'incom': 95,\n",
       " 'chariti': 52,\n",
       " 'tata also': 178,\n",
       " 'also one': 28,\n",
       " 'one largest': 137,\n",
       " 'largest philanthropist': 123,\n",
       " 'philanthropist world': 145,\n",
       " 'world donat': 209,\n",
       " 'donat around': 71,\n",
       " 'around 60': 33,\n",
       " '60 65': 20,\n",
       " '65 incom': 22,\n",
       " 'incom chariti': 96,\n",
       " 'prolif': 146,\n",
       " 'investor': 110,\n",
       " 'made': 128,\n",
       " 'numer': 132,\n",
       " 'invest': 106,\n",
       " 'sever': 161,\n",
       " 'startup': 171,\n",
       " 'ratan tata': 150,\n",
       " 'also prolif': 29,\n",
       " 'prolif investor': 147,\n",
       " 'investor made': 111,\n",
       " 'made numer': 129,\n",
       " 'numer invest': 133,\n",
       " 'invest sever': 109,\n",
       " 'sever startup': 162,\n",
       " '30': 17,\n",
       " 'start': 169,\n",
       " 'up': 198,\n",
       " 'date': 64,\n",
       " 'person': 141,\n",
       " 'capac': 43,\n",
       " 'via': 202,\n",
       " 'compani': 57,\n",
       " 'tata invest': 183,\n",
       " 'invest 30': 107,\n",
       " '30 start': 18,\n",
       " 'start up': 170,\n",
       " 'up date': 199,\n",
       " 'date person': 65,\n",
       " 'person capac': 142,\n",
       " 'capac via': 44,\n",
       " 'via invest': 203,\n",
       " 'invest compani': 108}"
      ]
     },
     "execution_count": 43,
     "metadata": {},
     "output_type": "execute_result"
    }
   ],
   "source": [
    "#applied Bag of Words\n",
    "cv.vocabulary_"
   ]
  },
  {
   "cell_type": "code",
   "execution_count": 45,
   "id": "fa69db98-6b5e-4f6b-a059-3e344a809793",
   "metadata": {},
   "outputs": [
    {
     "data": {
      "text/plain": [
       "(12, 210)"
      ]
     },
     "execution_count": 45,
     "metadata": {},
     "output_type": "execute_result"
    }
   ],
   "source": [
    "cv.fit_transform(corpus).toarray().shape"
   ]
  },
  {
   "cell_type": "code",
   "execution_count": 47,
   "id": "aaa15366-b807-4b0a-8a87-d9ff9f522d97",
   "metadata": {},
   "outputs": [],
   "source": [
    "from sklearn.feature_extraction.text import TfidfVectorizer"
   ]
  },
  {
   "cell_type": "code",
   "execution_count": 48,
   "id": "3c40ae25-085e-4eb6-9316-e2a73b0e4c12",
   "metadata": {},
   "outputs": [],
   "source": [
    "tf_idf = TfidfVectorizer()"
   ]
  },
  {
   "cell_type": "code",
   "execution_count": 49,
   "id": "086b88a0-4e4f-4656-a371-e2a37c080aab",
   "metadata": {},
   "outputs": [
    {
     "data": {
      "text/plain": [
       "array([[0.29965613, 0.        , 0.        , ..., 0.        , 0.        ,\n",
       "        0.        ],\n",
       "       [0.        , 0.        , 0.31511309, ..., 0.        , 0.        ,\n",
       "        0.        ],\n",
       "       [0.        , 0.        , 0.        , ..., 0.        , 0.        ,\n",
       "        0.        ],\n",
       "       ...,\n",
       "       [0.        , 0.        , 0.        , ..., 0.        , 0.        ,\n",
       "        0.30616223],\n",
       "       [0.        , 0.        , 0.        , ..., 0.        , 0.        ,\n",
       "        0.        ],\n",
       "       [0.        , 0.        , 0.        , ..., 0.        , 0.        ,\n",
       "        0.        ]])"
      ]
     },
     "execution_count": 49,
     "metadata": {},
     "output_type": "execute_result"
    }
   ],
   "source": [
    "tf_idf.fit_transform(corpus).toarray()"
   ]
  },
  {
   "cell_type": "code",
   "execution_count": 50,
   "id": "0a145039-2bfc-4f1d-a89f-9652f53c664a",
   "metadata": {},
   "outputs": [
    {
     "data": {
      "text/plain": [
       "{'ratan': 72,\n",
       " 'naval': 64,\n",
       " 'tata': 85,\n",
       " 'born': 21,\n",
       " '28': 9,\n",
       " 'decemb': 35,\n",
       " '1937': 0,\n",
       " 'indian': 50,\n",
       " 'industrialist': 51,\n",
       " 'philanthropist': 70,\n",
       " 'former': 40,\n",
       " 'chairman': 25,\n",
       " 'son': 80,\n",
       " 'group': 44,\n",
       " '1990': 2,\n",
       " '2012': 6,\n",
       " 'interim': 52,\n",
       " 'octob': 66,\n",
       " '2016': 7,\n",
       " 'februari': 38,\n",
       " '2017': 8,\n",
       " 'continu': 31,\n",
       " 'head': 45,\n",
       " 'charit': 26,\n",
       " 'trust': 89,\n",
       " '2008': 5,\n",
       " 'receiv': 74,\n",
       " 'padma': 68,\n",
       " 'vibhushan': 95,\n",
       " 'second': 77,\n",
       " 'highest': 46,\n",
       " 'civilian': 28,\n",
       " 'honour': 47,\n",
       " 'india': 49,\n",
       " 'bhushan': 20,\n",
       " 'third': 88,\n",
       " '2000': 4,\n",
       " 'adopt': 14,\n",
       " 'ratanji': 73,\n",
       " 'jamsetji': 56,\n",
       " 'founder': 41,\n",
       " 'graduat': 43,\n",
       " 'cornel': 32,\n",
       " 'univers': 91,\n",
       " 'colleg': 29,\n",
       " 'architectur': 16,\n",
       " 'bachelor': 19,\n",
       " 'degre': 36,\n",
       " 'join': 57,\n",
       " '1961': 1,\n",
       " 'work': 96,\n",
       " 'shop': 79,\n",
       " 'floor': 39,\n",
       " 'steel': 83,\n",
       " 'later': 61,\n",
       " 'succeed': 84,\n",
       " 'upon': 93,\n",
       " 'latter': 62,\n",
       " 'retir': 75,\n",
       " '1991': 3,\n",
       " 'tenur': 86,\n",
       " 'acquir': 13,\n",
       " 'tetley': 87,\n",
       " 'jaguar': 55,\n",
       " 'land': 58,\n",
       " 'rover': 76,\n",
       " 'coru': 33,\n",
       " 'attempt': 18,\n",
       " 'turn': 90,\n",
       " 'larg': 59,\n",
       " 'centr': 24,\n",
       " 'global': 42,\n",
       " 'busi': 22,\n",
       " 'also': 15,\n",
       " 'one': 67,\n",
       " 'largest': 60,\n",
       " 'world': 97,\n",
       " 'donat': 37,\n",
       " 'around': 17,\n",
       " '60': 11,\n",
       " '65': 12,\n",
       " 'incom': 48,\n",
       " 'chariti': 27,\n",
       " 'prolif': 71,\n",
       " 'investor': 54,\n",
       " 'made': 63,\n",
       " 'numer': 65,\n",
       " 'invest': 53,\n",
       " 'sever': 78,\n",
       " 'startup': 82,\n",
       " '30': 10,\n",
       " 'start': 81,\n",
       " 'up': 92,\n",
       " 'date': 34,\n",
       " 'person': 69,\n",
       " 'capac': 23,\n",
       " 'via': 94,\n",
       " 'compani': 30}"
      ]
     },
     "execution_count": 50,
     "metadata": {},
     "output_type": "execute_result"
    }
   ],
   "source": [
    "tf_idf.vocabulary_"
   ]
  },
  {
   "cell_type": "code",
   "execution_count": 51,
   "id": "adcba7ce-5022-4faf-8887-1f1b593e1a05",
   "metadata": {},
   "outputs": [
    {
     "data": {
      "text/plain": [
       "array([[0, 0, 0, 0, 0, 0, 0, 0, 0, 0, 0, 0, 0, 0, 0, 0, 0, 0, 0, 0, 0, 0,\n",
       "        0, 0, 0, 0, 0, 0, 0, 0, 0, 0, 0, 0, 0, 0, 0, 0, 0, 0, 0, 0, 0, 0,\n",
       "        0, 0, 0, 0, 0, 0, 0, 0, 0, 0, 0, 0, 0, 0, 0, 0, 0, 0, 0, 0, 0, 0,\n",
       "        0, 0, 0, 0, 0, 0, 0, 0, 0, 0, 0, 0, 0, 0, 0, 0, 0, 0, 0, 0, 0, 0,\n",
       "        0, 0, 0, 0, 0, 0, 0, 0, 0, 0, 0, 0, 0, 0, 0, 0, 0, 0, 0, 0, 0, 0,\n",
       "        0, 0, 0, 0, 0, 0, 0, 0, 0, 0, 0, 0, 0, 0, 0, 0, 0, 0, 0, 0, 0, 0,\n",
       "        0, 0, 0, 0, 0, 0, 0, 0, 0, 0, 0, 0, 0, 0, 0, 0, 0, 0, 0, 0, 0, 0,\n",
       "        0, 0, 0, 0, 0, 0, 0, 0, 0, 0, 0, 0, 0, 0, 0, 0, 0, 0, 0, 0, 0, 0,\n",
       "        0, 0, 0, 0, 0, 0, 0, 0, 0, 0, 0, 0, 0, 0, 0, 0, 0, 0, 0, 0, 0, 0,\n",
       "        0, 0, 0, 0, 0, 0, 0, 0, 0, 0, 0, 0]], dtype=int64)"
      ]
     },
     "execution_count": 51,
     "metadata": {},
     "output_type": "execute_result"
    }
   ],
   "source": [
    "#new test data \n",
    "data = [\"o want to have food\"]\n",
    "cv.transform(data).toarray()"
   ]
  },
  {
   "cell_type": "code",
   "execution_count": 52,
   "id": "c9994234-a35e-4734-9df7-04c47ea4a4ac",
   "metadata": {},
   "outputs": [
    {
     "data": {
      "text/plain": [
       "array([[0, 0, 0, 0, 0, 0, 0, 0, 0, 0, 0, 0, 0, 0, 0, 0, 0, 0, 0, 0, 0, 0,\n",
       "        0, 0, 0, 0, 0, 0, 0, 0, 0, 0, 0, 0, 0, 0, 0, 0, 0, 0, 1, 0, 0, 0,\n",
       "        0, 0, 0, 0, 0, 0, 0, 0, 0, 0, 0, 0, 0, 0, 0, 0, 0, 0, 0, 0, 0, 0,\n",
       "        0, 0, 0, 0, 0, 0, 0, 0, 0, 0, 0, 0, 0, 0, 0, 0, 0, 0, 0, 0, 0, 0,\n",
       "        0, 0, 0, 0, 0, 0, 0, 0, 0, 0, 0, 0, 0, 0, 0, 0, 0, 0, 0, 0, 0, 0,\n",
       "        0, 0, 0, 0, 0, 0, 0, 0, 0, 0, 0, 0, 0, 0, 0, 0, 0, 0, 0, 0, 0, 0,\n",
       "        0, 0, 0, 0, 0, 0, 0, 0, 0, 0, 0, 0, 0, 0, 0, 0, 1, 0, 1, 0, 0, 0,\n",
       "        0, 0, 0, 0, 0, 0, 0, 0, 0, 0, 0, 0, 0, 0, 0, 0, 0, 0, 0, 0, 0, 1,\n",
       "        0, 0, 0, 0, 0, 0, 0, 0, 0, 0, 0, 0, 0, 0, 0, 0, 0, 0, 0, 0, 0, 0,\n",
       "        0, 0, 0, 0, 0, 0, 0, 0, 0, 0, 0, 0]], dtype=int64)"
      ]
     },
     "execution_count": 52,
     "metadata": {},
     "output_type": "execute_result"
    }
   ],
   "source": [
    "#new test data \n",
    "data = [\"i was born to meet ratan tata\"]\n",
    "cv.transform(data).toarray()"
   ]
  },
  {
   "cell_type": "code",
   "execution_count": null,
   "id": "940fc807-56a6-4bf7-abd2-0f3216ca3e15",
   "metadata": {},
   "outputs": [],
   "source": []
  }
 ],
 "metadata": {
  "kernelspec": {
   "display_name": "Python 3 (ipykernel)",
   "language": "python",
   "name": "python3"
  },
  "language_info": {
   "codemirror_mode": {
    "name": "ipython",
    "version": 3
   },
   "file_extension": ".py",
   "mimetype": "text/x-python",
   "name": "python",
   "nbconvert_exporter": "python",
   "pygments_lexer": "ipython3",
   "version": "3.11.7"
  }
 },
 "nbformat": 4,
 "nbformat_minor": 5
}
