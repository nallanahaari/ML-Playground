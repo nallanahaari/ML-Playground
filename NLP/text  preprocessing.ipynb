{
 "cells": [
  {
   "cell_type": "code",
   "execution_count": 3,
   "id": "e810e58e-a4d2-4613-8a52-d275d9d7499b",
   "metadata": {},
   "outputs": [],
   "source": [
    "paragraph = \"this is the NLP session that is going on and finally we are happy. Is everyone happy. Google is company where we search and learn tech\""
   ]
  },
  {
   "cell_type": "code",
   "execution_count": 5,
   "id": "7099eb10-2f81-4449-88ef-d9240af72015",
   "metadata": {},
   "outputs": [
    {
     "name": "stderr",
     "output_type": "stream",
     "text": [
      "[nltk_data] Downloading package punkt to\n",
      "[nltk_data]     C:\\Users\\hp\\AppData\\Roaming\\nltk_data...\n",
      "[nltk_data]   Unzipping tokenizers\\punkt.zip.\n"
     ]
    },
    {
     "data": {
      "text/plain": [
       "True"
      ]
     },
     "execution_count": 5,
     "metadata": {},
     "output_type": "execute_result"
    }
   ],
   "source": [
    "import nltk\n",
    "nltk.download('punkt')"
   ]
  },
  {
   "cell_type": "code",
   "execution_count": 14,
   "id": "92e78ceb-edfc-430f-91b8-0fe926ea5abd",
   "metadata": {},
   "outputs": [
    {
     "name": "stderr",
     "output_type": "stream",
     "text": [
      "[nltk_data] Downloading package wordnet to\n",
      "[nltk_data]     C:\\Users\\hp\\AppData\\Roaming\\nltk_data...\n"
     ]
    },
    {
     "data": {
      "text/plain": [
       "True"
      ]
     },
     "execution_count": 14,
     "metadata": {},
     "output_type": "execute_result"
    }
   ],
   "source": [
    "nltk.download('wordnet')"
   ]
  },
  {
   "cell_type": "code",
   "execution_count": 18,
   "id": "b78a7ed9-b9d4-47b3-a753-54f46f9ed7a5",
   "metadata": {},
   "outputs": [],
   "source": [
    " sentences = nltk.sent_tokenize(paragraph)"
   ]
  },
  {
   "cell_type": "code",
   "execution_count": 7,
   "id": "c2782fee-8a59-4cba-81a6-4ac0fdc8dc9e",
   "metadata": {},
   "outputs": [
    {
     "data": {
      "text/plain": [
       "['this',\n",
       " 'is',\n",
       " 'the',\n",
       " 'NLP',\n",
       " 'session',\n",
       " 'that',\n",
       " 'is',\n",
       " 'going',\n",
       " 'on',\n",
       " 'and',\n",
       " 'finally',\n",
       " 'we',\n",
       " 'are',\n",
       " 'happy',\n",
       " '.',\n",
       " 'Is',\n",
       " 'everyone',\n",
       " 'happy',\n",
       " '.',\n",
       " 'Google',\n",
       " 'is',\n",
       " 'company',\n",
       " 'where',\n",
       " 'we',\n",
       " 'search',\n",
       " 'and',\n",
       " 'learn',\n",
       " 'tech']"
      ]
     },
     "execution_count": 7,
     "metadata": {},
     "output_type": "execute_result"
    }
   ],
   "source": [
    "nltk.word_tokenize(paragraph)"
   ]
  },
  {
   "cell_type": "code",
   "execution_count": 9,
   "id": "82a8dedd-b81e-4ab5-a668-d937660be5b1",
   "metadata": {},
   "outputs": [
    {
     "data": {
      "text/plain": [
       "'final'"
      ]
     },
     "execution_count": 9,
     "metadata": {},
     "output_type": "execute_result"
    }
   ],
   "source": [
    "from nltk.stem import PorterStemmer\n",
    "\n",
    "stemmer = PorterStemmer()\n",
    "\n",
    "stemmer.stem(\"finally\")"
   ]
  },
  {
   "cell_type": "code",
   "execution_count": 10,
   "id": "6be318c8-edb2-4baf-9785-7d3ce84bbe5b",
   "metadata": {},
   "outputs": [
    {
     "data": {
      "text/plain": [
       "'histori'"
      ]
     },
     "execution_count": 10,
     "metadata": {},
     "output_type": "execute_result"
    }
   ],
   "source": [
    "stemmer.stem(\"history\")"
   ]
  },
  {
   "cell_type": "code",
   "execution_count": 11,
   "id": "fac3af7c-9461-45ad-8361-185517d97125",
   "metadata": {},
   "outputs": [
    {
     "data": {
      "text/plain": [
       "'organ'"
      ]
     },
     "execution_count": 11,
     "metadata": {},
     "output_type": "execute_result"
    }
   ],
   "source": [
    "stemmer.stem(\"organization\")"
   ]
  },
  {
   "cell_type": "markdown",
   "id": "1cebf03e-30ad-43bb-ba03-554e42e9b03f",
   "metadata": {},
   "source": [
    "stemming is the process of converting a word to their root form"
   ]
  },
  {
   "cell_type": "code",
   "execution_count": 12,
   "id": "13111114-4457-42a7-a632-156a0ffd184b",
   "metadata": {},
   "outputs": [],
   "source": [
    "from nltk.stem import WordNetLemmatizer\n",
    "\n",
    "lemmatizer = WordNetLemmatizer()"
   ]
  },
  {
   "cell_type": "code",
   "execution_count": 16,
   "id": "fa451f3d-fb91-4490-8973-24b27c7e8a28",
   "metadata": {},
   "outputs": [
    {
     "data": {
      "text/plain": [
       "'historical'"
      ]
     },
     "execution_count": 16,
     "metadata": {},
     "output_type": "execute_result"
    }
   ],
   "source": [
    "lemmatizer.lemmatize(\"historical\")"
   ]
  },
  {
   "cell_type": "code",
   "execution_count": 17,
   "id": "3debb356-f499-4825-b39d-7e25cfc13144",
   "metadata": {},
   "outputs": [
    {
     "data": {
      "text/plain": [
       "'eating'"
      ]
     },
     "execution_count": 17,
     "metadata": {},
     "output_type": "execute_result"
    }
   ],
   "source": [
    "lemmatizer.lemmatize(\"eating\")"
   ]
  },
  {
   "cell_type": "code",
   "execution_count": 21,
   "id": "69d5663a-d408-44be-a472-06d067f44478",
   "metadata": {},
   "outputs": [
    {
     "name": "stdout",
     "output_type": "stream",
     "text": [
      "['thi', 'is', 'the', 'nlp', 'session', 'that', 'is', 'go', 'on', 'and', 'final', 'we', 'are', 'happi', '.']\n",
      "['is', 'everyon', 'happi', '.']\n",
      "['googl', 'is', 'compani', 'where', 'we', 'search', 'and', 'learn', 'tech']\n"
     ]
    }
   ],
   "source": [
    "corpus = []\n",
    "for i in range(len(sentences)):\n",
    "    words = nltk.word_tokenize(sentences[i])\n",
    "    words = [stemmer.stem(word) for word in words]\n",
    "    print(words)"
   ]
  },
  {
   "cell_type": "code",
   "execution_count": 22,
   "id": "db561d2f-cbf5-4f1a-9ea0-dfc7c7cae103",
   "metadata": {},
   "outputs": [
    {
     "name": "stdout",
     "output_type": "stream",
     "text": [
      "['this', 'is', 'the', 'NLP', 'session', 'that', 'is', 'going', 'on', 'and', 'finally', 'we', 'are', 'happy', '.']\n",
      "['Is', 'everyone', 'happy', '.']\n",
      "['Google', 'is', 'company', 'where', 'we', 'search', 'and', 'learn', 'tech']\n"
     ]
    }
   ],
   "source": [
    "corpus = []\n",
    "for i in range(len(sentences)):\n",
    "    words = nltk.word_tokenize(sentences[i])\n",
    "    words = [lemmatizer.lemmatize(word) for word in words]\n",
    "    print(words)"
   ]
  },
  {
   "cell_type": "code",
   "execution_count": 23,
   "id": "fcc8682c-6045-4742-8f6a-2d158d417116",
   "metadata": {},
   "outputs": [],
   "source": [
    "paragraph = \"\"\"\n",
    "Ratan Naval Tata (born 28 December 1937) is an Indian industrialist, philanthropist and former chairman of Tata Sons. He was a chairman of the Tata Group from 1990 to 2012, and interim chairman from October 2016 through February 2017. He continues to head its charitable trusts.[2][3] In 2008, he received the Padma Vibhushan, the second highest civilian honour in India, after receiving the Padma Bhushan, the third highest civilian honour in 2000.[4]\n",
    "\n",
    "He is the son of Naval Tata, who was adopted by Ratanji Tata, son of Jamsetji Tata, the founder of the Tata Group. He graduated from the Cornell University College of Architecture with a bachelor's degree in architecture.[5] He joined Tata in 1961, where he worked on the shop floor of Tata Steel. He later succeeded J. R. D. Tata as chairman of Tata Sons upon the latter's retirement in 1991. Under his tenure the Tata Group acquired Tetley, Jaguar Land Rover, and Corus, in an attempt to turn Tata from a largely India-centric group into a global business. Tata is also one of the largest philanthropists in the world, having donated around 60–65% of his income to charity.\n",
    "\n",
    "Ratan Tata is also a prolific investor and has made numerous investments in several startups. Tata has invested in over 30 start-ups to date, most in a personal capacity and some via his investment company\n",
    "\"\"\""
   ]
  },
  {
   "cell_type": "code",
   "execution_count": 24,
   "id": "8fc6f611-c221-4930-aaad-bfba899e05c0",
   "metadata": {},
   "outputs": [
    {
     "data": {
      "text/plain": [
       "\"\\nRatan Naval Tata (born 28 December 1937) is an Indian industrialist, philanthropist and former chairman of Tata Sons. He was a chairman of the Tata Group from 1990 to 2012, and interim chairman from October 2016 through February 2017. He continues to head its charitable trusts.[2][3] In 2008, he received the Padma Vibhushan, the second highest civilian honour in India, after receiving the Padma Bhushan, the third highest civilian honour in 2000.[4]\\n\\nHe is the son of Naval Tata, who was adopted by Ratanji Tata, son of Jamsetji Tata, the founder of the Tata Group. He graduated from the Cornell University College of Architecture with a bachelor's degree in architecture.[5] He joined Tata in 1961, where he worked on the shop floor of Tata Steel. He later succeeded J. R. D. Tata as chairman of Tata Sons upon the latter's retirement in 1991. Under his tenure the Tata Group acquired Tetley, Jaguar Land Rover, and Corus, in an attempt to turn Tata from a largely India-centric group into a global business. Tata is also one of the largest philanthropists in the world, having donated around 60–65% of his income to charity.\\n\\nRatan Tata is also a prolific investor and has made numerous investments in several startups. Tata has invested in over 30 start-ups to date, most in a personal capacity and some via his investment company\\n\""
      ]
     },
     "execution_count": 24,
     "metadata": {},
     "output_type": "execute_result"
    }
   ],
   "source": [
    "paragraph"
   ]
  },
  {
   "cell_type": "code",
   "execution_count": 25,
   "id": "1fc71acf-6a35-4f93-bfa7-093384a99cc3",
   "metadata": {},
   "outputs": [
    {
     "data": {
      "text/plain": [
       "['\\nRatan Naval Tata (born 28 December 1937) is an Indian industrialist, philanthropist and former chairman of Tata Sons.',\n",
       " 'He was a chairman of the Tata Group from 1990 to 2012, and interim chairman from October 2016 through February 2017.',\n",
       " 'He continues to head its charitable trusts.',\n",
       " '[2][3] In 2008, he received the Padma Vibhushan, the second highest civilian honour in India, after receiving the Padma Bhushan, the third highest civilian honour in 2000.',\n",
       " '[4]\\n\\nHe is the son of Naval Tata, who was adopted by Ratanji Tata, son of Jamsetji Tata, the founder of the Tata Group.',\n",
       " \"He graduated from the Cornell University College of Architecture with a bachelor's degree in architecture.\",\n",
       " '[5] He joined Tata in 1961, where he worked on the shop floor of Tata Steel.',\n",
       " \"He later succeeded J. R. D. Tata as chairman of Tata Sons upon the latter's retirement in 1991.\",\n",
       " 'Under his tenure the Tata Group acquired Tetley, Jaguar Land Rover, and Corus, in an attempt to turn Tata from a largely India-centric group into a global business.',\n",
       " 'Tata is also one of the largest philanthropists in the world, having donated around 60–65% of his income to charity.',\n",
       " 'Ratan Tata is also a prolific investor and has made numerous investments in several startups.',\n",
       " 'Tata has invested in over 30 start-ups to date, most in a personal capacity and some via his investment company']"
      ]
     },
     "execution_count": 25,
     "metadata": {},
     "output_type": "execute_result"
    }
   ],
   "source": [
    " sentences = nltk.sent_tokenize(paragraph)\n",
    "sentences"
   ]
  },
  {
   "cell_type": "code",
   "execution_count": 26,
   "id": "ee68560a-93c9-4ac6-a020-c13d6e2b062a",
   "metadata": {},
   "outputs": [
    {
     "name": "stdout",
     "output_type": "stream",
     "text": [
      "['Ratan', 'Naval', 'Tata', '(', 'born', '28', 'December', '1937', ')', 'is', 'an', 'Indian', 'industrialist', ',', 'philanthropist', 'and', 'former', 'chairman', 'of', 'Tata', 'Sons', '.']\n",
      "['He', 'wa', 'a', 'chairman', 'of', 'the', 'Tata', 'Group', 'from', '1990', 'to', '2012', ',', 'and', 'interim', 'chairman', 'from', 'October', '2016', 'through', 'February', '2017', '.']\n",
      "['He', 'continues', 'to', 'head', 'it', 'charitable', 'trust', '.']\n",
      "['[', '2', ']', '[', '3', ']', 'In', '2008', ',', 'he', 'received', 'the', 'Padma', 'Vibhushan', ',', 'the', 'second', 'highest', 'civilian', 'honour', 'in', 'India', ',', 'after', 'receiving', 'the', 'Padma', 'Bhushan', ',', 'the', 'third', 'highest', 'civilian', 'honour', 'in', '2000', '.']\n",
      "['[', '4', ']', 'He', 'is', 'the', 'son', 'of', 'Naval', 'Tata', ',', 'who', 'wa', 'adopted', 'by', 'Ratanji', 'Tata', ',', 'son', 'of', 'Jamsetji', 'Tata', ',', 'the', 'founder', 'of', 'the', 'Tata', 'Group', '.']\n",
      "['He', 'graduated', 'from', 'the', 'Cornell', 'University', 'College', 'of', 'Architecture', 'with', 'a', 'bachelor', \"'s\", 'degree', 'in', 'architecture', '.']\n",
      "['[', '5', ']', 'He', 'joined', 'Tata', 'in', '1961', ',', 'where', 'he', 'worked', 'on', 'the', 'shop', 'floor', 'of', 'Tata', 'Steel', '.']\n",
      "['He', 'later', 'succeeded', 'J.', 'R.', 'D.', 'Tata', 'a', 'chairman', 'of', 'Tata', 'Sons', 'upon', 'the', 'latter', \"'s\", 'retirement', 'in', '1991', '.']\n",
      "['Under', 'his', 'tenure', 'the', 'Tata', 'Group', 'acquired', 'Tetley', ',', 'Jaguar', 'Land', 'Rover', ',', 'and', 'Corus', ',', 'in', 'an', 'attempt', 'to', 'turn', 'Tata', 'from', 'a', 'largely', 'India-centric', 'group', 'into', 'a', 'global', 'business', '.']\n",
      "['Tata', 'is', 'also', 'one', 'of', 'the', 'largest', 'philanthropist', 'in', 'the', 'world', ',', 'having', 'donated', 'around', '60–65', '%', 'of', 'his', 'income', 'to', 'charity', '.']\n",
      "['Ratan', 'Tata', 'is', 'also', 'a', 'prolific', 'investor', 'and', 'ha', 'made', 'numerous', 'investment', 'in', 'several', 'startup', '.']\n",
      "['Tata', 'ha', 'invested', 'in', 'over', '30', 'start-ups', 'to', 'date', ',', 'most', 'in', 'a', 'personal', 'capacity', 'and', 'some', 'via', 'his', 'investment', 'company']\n"
     ]
    }
   ],
   "source": [
    "corpus = []\n",
    "for i in range(len(sentences)):\n",
    "    words = nltk.word_tokenize(sentences[i])\n",
    "    words = [lemmatizer.lemmatize(word) for word in words]\n",
    "    print(words)"
   ]
  },
  {
   "cell_type": "code",
   "execution_count": 28,
   "id": "d5d82712-4898-4871-93de-fda6cb0a1612",
   "metadata": {
    "scrolled": true
   },
   "outputs": [
    {
     "name": "stdout",
     "output_type": "stream",
     "text": [
      "['ratan', 'naval', 'tata', '(', 'born', '28', 'decemb', '1937', ')', 'is', 'an', 'indian', 'industrialist', ',', 'philanthropist', 'and', 'former', 'chairman', 'of', 'tata', 'son', '.']\n",
      "['he', 'wa', 'a', 'chairman', 'of', 'the', 'tata', 'group', 'from', '1990', 'to', '2012', ',', 'and', 'interim', 'chairman', 'from', 'octob', '2016', 'through', 'februari', '2017', '.']\n",
      "['he', 'continu', 'to', 'head', 'it', 'charit', 'trust', '.']\n",
      "['[', '2', ']', '[', '3', ']', 'in', '2008', ',', 'he', 'receiv', 'the', 'padma', 'vibhushan', ',', 'the', 'second', 'highest', 'civilian', 'honour', 'in', 'india', ',', 'after', 'receiv', 'the', 'padma', 'bhushan', ',', 'the', 'third', 'highest', 'civilian', 'honour', 'in', '2000', '.']\n",
      "['[', '4', ']', 'he', 'is', 'the', 'son', 'of', 'naval', 'tata', ',', 'who', 'wa', 'adopt', 'by', 'ratanji', 'tata', ',', 'son', 'of', 'jamsetji', 'tata', ',', 'the', 'founder', 'of', 'the', 'tata', 'group', '.']\n",
      "['he', 'graduat', 'from', 'the', 'cornel', 'univers', 'colleg', 'of', 'architectur', 'with', 'a', 'bachelor', \"'s\", 'degre', 'in', 'architectur', '.']\n",
      "['[', '5', ']', 'he', 'join', 'tata', 'in', '1961', ',', 'where', 'he', 'work', 'on', 'the', 'shop', 'floor', 'of', 'tata', 'steel', '.']\n",
      "['he', 'later', 'succeed', 'j.', 'r.', 'd.', 'tata', 'as', 'chairman', 'of', 'tata', 'son', 'upon', 'the', 'latter', \"'s\", 'retir', 'in', '1991', '.']\n",
      "['under', 'hi', 'tenur', 'the', 'tata', 'group', 'acquir', 'tetley', ',', 'jaguar', 'land', 'rover', ',', 'and', 'coru', ',', 'in', 'an', 'attempt', 'to', 'turn', 'tata', 'from', 'a', 'larg', 'india-centr', 'group', 'into', 'a', 'global', 'busi', '.']\n",
      "['tata', 'is', 'also', 'one', 'of', 'the', 'largest', 'philanthropist', 'in', 'the', 'world', ',', 'have', 'donat', 'around', '60–65', '%', 'of', 'hi', 'incom', 'to', 'chariti', '.']\n",
      "['ratan', 'tata', 'is', 'also', 'a', 'prolif', 'investor', 'and', 'ha', 'made', 'numer', 'invest', 'in', 'sever', 'startup', '.']\n",
      "['tata', 'ha', 'invest', 'in', 'over', '30', 'start-up', 'to', 'date', ',', 'most', 'in', 'a', 'person', 'capac', 'and', 'some', 'via', 'hi', 'invest', 'compani']\n"
     ]
    }
   ],
   "source": [
    "corpus = []\n",
    "for i in range(len(sentences)):\n",
    "    words = nltk.word_tokenize(sentences[i])\n",
    "    words = [stemmer.stem(word) for word in words if not word in stop]\n",
    "    print(words)"
   ]
  },
  {
   "cell_type": "code",
   "execution_count": 29,
   "id": "9c32fce8-8fde-4391-919b-48d760eb5786",
   "metadata": {},
   "outputs": [
    {
     "name": "stderr",
     "output_type": "stream",
     "text": [
      "[nltk_data] Downloading package stopwords to\n",
      "[nltk_data]     C:\\Users\\hp\\AppData\\Roaming\\nltk_data...\n",
      "[nltk_data]   Unzipping corpora\\stopwords.zip.\n"
     ]
    },
    {
     "data": {
      "text/plain": [
       "True"
      ]
     },
     "execution_count": 29,
     "metadata": {},
     "output_type": "execute_result"
    }
   ],
   "source": [
    "nltk.download('stopwords')"
   ]
  },
  {
   "cell_type": "code",
   "execution_count": 32,
   "id": "75dbbd21-9714-443f-bf14-a982c389292b",
   "metadata": {},
   "outputs": [],
   "source": [
    "from nltk.corpus import stopwords\n",
    "stop_words = stopwords.words('english')"
   ]
  },
  {
   "cell_type": "code",
   "execution_count": 35,
   "id": "70441821-e953-4b3f-9594-a8b4189fa735",
   "metadata": {},
   "outputs": [
    {
     "name": "stdout",
     "output_type": "stream",
     "text": [
      "['ratan', 'naval', 'tata', '(', 'born', '28', 'decemb', '1937', ')', 'indian', 'industrialist', ',', 'philanthropist', 'former', 'chairman', 'tata', 'son', '.']\n",
      "['chairman', 'tata', 'group', '1990', '2012', ',', 'interim', 'chairman', 'octob', '2016', 'februari', '2017', '.']\n",
      "['continu', 'head', 'charit', 'trust', '.']\n",
      "['[', '2', ']', '[', '3', ']', '2008', ',', 'receiv', 'padma', 'vibhushan', ',', 'second', 'highest', 'civilian', 'honour', 'india', ',', 'receiv', 'padma', 'bhushan', ',', 'third', 'highest', 'civilian', 'honour', '2000', '.']\n",
      "['[', '4', ']', 'son', 'naval', 'tata', ',', 'adopt', 'ratanji', 'tata', ',', 'son', 'jamsetji', 'tata', ',', 'founder', 'tata', 'group', '.']\n",
      "['graduat', 'cornel', 'univers', 'colleg', 'architectur', 'bachelor', \"'s\", 'degre', 'architectur', '.']\n",
      "['[', '5', ']', 'join', 'tata', '1961', ',', 'work', 'shop', 'floor', 'tata', 'steel', '.']\n",
      "['later', 'succeed', 'j.', 'r.', 'd.', 'tata', 'chairman', 'tata', 'son', 'upon', 'latter', \"'s\", 'retir', '1991', '.']\n",
      "['tenur', 'tata', 'group', 'acquir', 'tetley', ',', 'jaguar', 'land', 'rover', ',', 'coru', ',', 'attempt', 'turn', 'tata', 'larg', 'india-centr', 'group', 'global', 'busi', '.']\n",
      "['tata', 'also', 'one', 'largest', 'philanthropist', 'world', ',', 'donat', 'around', '60–65', '%', 'incom', 'chariti', '.']\n",
      "['ratan', 'tata', 'also', 'prolif', 'investor', 'made', 'numer', 'invest', 'sever', 'startup', '.']\n",
      "['tata', 'invest', '30', 'start-up', 'date', ',', 'person', 'capac', 'via', 'invest', 'compani']\n"
     ]
    }
   ],
   "source": [
    "#removing stopwords from ccorpus\n",
    "corpus = []\n",
    "for i in range(len(sentences)):\n",
    "    words = nltk.word_tokenize(sentences[i].lower())\n",
    "    words = [stemmer.stem(word) for word in words if not word in stop_words]\n",
    "    print(words)\n",
    "    corpus.append(' '.join(words))"
   ]
  },
  {
   "cell_type": "code",
   "execution_count": 36,
   "id": "30127833-2ff5-425f-80f9-3adb9d4d1fbc",
   "metadata": {},
   "outputs": [
    {
     "data": {
      "text/plain": [
       "['ratan naval tata ( born 28 decemb 1937 ) indian industrialist , philanthropist former chairman tata son .',\n",
       " 'chairman tata group 1990 2012 , interim chairman octob 2016 februari 2017 .',\n",
       " 'continu head charit trust .',\n",
       " '[ 2 ] [ 3 ] 2008 , receiv padma vibhushan , second highest civilian honour india , receiv padma bhushan , third highest civilian honour 2000 .',\n",
       " '[ 4 ] son naval tata , adopt ratanji tata , son jamsetji tata , founder tata group .',\n",
       " \"graduat cornel univers colleg architectur bachelor 's degre architectur .\",\n",
       " '[ 5 ] join tata 1961 , work shop floor tata steel .',\n",
       " \"later succeed j. r. d. tata chairman tata son upon latter 's retir 1991 .\",\n",
       " 'tenur tata group acquir tetley , jaguar land rover , coru , attempt turn tata larg india-centr group global busi .',\n",
       " 'tata also one largest philanthropist world , donat around 60–65 % incom chariti .',\n",
       " 'ratan tata also prolif investor made numer invest sever startup .',\n",
       " 'tata invest 30 start-up date , person capac via invest compani']"
      ]
     },
     "execution_count": 36,
     "metadata": {},
     "output_type": "execute_result"
    }
   ],
   "source": [
    "corpus"
   ]
  },
  {
   "cell_type": "code",
   "execution_count": null,
   "id": "f13ba319-3430-4503-89dd-eefc570e4692",
   "metadata": {},
   "outputs": [],
   "source": []
  }
 ],
 "metadata": {
  "kernelspec": {
   "display_name": "Python 3 (ipykernel)",
   "language": "python",
   "name": "python3"
  },
  "language_info": {
   "codemirror_mode": {
    "name": "ipython",
    "version": 3
   },
   "file_extension": ".py",
   "mimetype": "text/x-python",
   "name": "python",
   "nbconvert_exporter": "python",
   "pygments_lexer": "ipython3",
   "version": "3.11.7"
  }
 },
 "nbformat": 4,
 "nbformat_minor": 5
}
